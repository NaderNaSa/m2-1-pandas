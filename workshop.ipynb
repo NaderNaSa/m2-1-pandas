{
 "cells": [
  {
   "cell_type": "markdown",
   "metadata": {},
   "source": [
    "# Notes:\n",
    "\n",
    "You are banned from using loops (`for` or `while` or any other) for this entire workshop!\n",
    "\n",
    "You shouldn't be using loops almost ever with pandas in any case, so break out of the habit now.\n",
    "\n",
    "## 1. DataFrame basics\n",
    "\n",
    "\n",
    "Consider the following Python dictionary `data` and Python list `labels`:\n",
    "\n",
    "``` python\n",
    "data = {'animal': ['cat', 'cat', 'snake', 'dog', 'dog', 'cat', 'snake', 'cat', 'dog', 'dog'],\n",
    "        'age': [2.5, 3, 0.5, np.nan, 5, 2, 4.5, np.nan, 7, 3],\n",
    "        'visits': [1, 3, 2, 3, 2, 3, 1, 1, 2, 1],\n",
    "        'priority': ['yes', 'yes', 'no', 'yes', 'no', 'no', 'no', 'yes', 'no', 'no']}\n",
    "\n",
    "labels = ['a', 'b', 'c', 'd', 'e', 'f', 'g', 'h', 'i', 'j']\n",
    "```\n",
    "(This is just some meaningless data I made up with the theme of animals and trips to a vet.)\n",
    "\n",
    "**1.** Create a DataFrame `df` from this dictionary `data` which has the index `labels`.\n",
    "\n",
    "**2.** Select only the rows where visits are 3 or more. Which types of animals are these?\n",
    "\n",
    "**3.** Select the rows where visists are 3 and the animal is a cat\n",
    "\n",
    "**4.** Calculate the sum of all visits in `df` (i.e. the total number of visits).\n",
    "\n",
    "**5.** Calculate the mean age for each different animal in `df`.\n",
    "\n",
    "**6.** Append a new row 'k' to `df` with your choice of values for each column. Then delete that row to return the original DataFrame.\n",
    "\n"
   ]
  },
  {
   "cell_type": "code",
   "execution_count": 2,
   "metadata": {},
   "outputs": [],
   "source": [
    "import pandas as pd\n",
    "import numpy as np"
   ]
  },
  {
   "cell_type": "code",
   "execution_count": 3,
   "metadata": {},
   "outputs": [],
   "source": [
    "data = {'animal': ['cat', 'cat', 'snake', 'dog', 'dog', 'cat', 'snake', 'cat', 'dog', 'dog'],\n",
    "        'age': [2.5, 3, 0.5, np.nan, 5, 2, 4.5, np.nan, 7, 3],\n",
    "        'visits': [1, 3, 2, 3, 2, 3, 1, 1, 2, 1],\n",
    "        'priority': ['yes', 'yes', 'no', 'yes', 'no', 'no', 'no', 'yes', 'no', 'no']}\n",
    "\n",
    "labels = ['a', 'b', 'c', 'd', 'e', 'f', 'g', 'h', 'i', 'j']"
   ]
  },
  {
   "cell_type": "code",
   "execution_count": 4,
   "metadata": {},
   "outputs": [
    {
     "output_type": "execute_result",
     "data": {
      "text/plain": [
       "  animal  age  visits priority\n",
       "a    cat  2.5       1      yes\n",
       "b    cat  3.0       3      yes\n",
       "c  snake  0.5       2       no\n",
       "d    dog  NaN       3      yes\n",
       "e    dog  5.0       2       no\n",
       "f    cat  2.0       3       no\n",
       "g  snake  4.5       1       no\n",
       "h    cat  NaN       1      yes\n",
       "i    dog  7.0       2       no\n",
       "j    dog  3.0       1       no"
      ],
      "text/html": "<div>\n<style scoped>\n    .dataframe tbody tr th:only-of-type {\n        vertical-align: middle;\n    }\n\n    .dataframe tbody tr th {\n        vertical-align: top;\n    }\n\n    .dataframe thead th {\n        text-align: right;\n    }\n</style>\n<table border=\"1\" class=\"dataframe\">\n  <thead>\n    <tr style=\"text-align: right;\">\n      <th></th>\n      <th>animal</th>\n      <th>age</th>\n      <th>visits</th>\n      <th>priority</th>\n    </tr>\n  </thead>\n  <tbody>\n    <tr>\n      <th>a</th>\n      <td>cat</td>\n      <td>2.5</td>\n      <td>1</td>\n      <td>yes</td>\n    </tr>\n    <tr>\n      <th>b</th>\n      <td>cat</td>\n      <td>3.0</td>\n      <td>3</td>\n      <td>yes</td>\n    </tr>\n    <tr>\n      <th>c</th>\n      <td>snake</td>\n      <td>0.5</td>\n      <td>2</td>\n      <td>no</td>\n    </tr>\n    <tr>\n      <th>d</th>\n      <td>dog</td>\n      <td>NaN</td>\n      <td>3</td>\n      <td>yes</td>\n    </tr>\n    <tr>\n      <th>e</th>\n      <td>dog</td>\n      <td>5.0</td>\n      <td>2</td>\n      <td>no</td>\n    </tr>\n    <tr>\n      <th>f</th>\n      <td>cat</td>\n      <td>2.0</td>\n      <td>3</td>\n      <td>no</td>\n    </tr>\n    <tr>\n      <th>g</th>\n      <td>snake</td>\n      <td>4.5</td>\n      <td>1</td>\n      <td>no</td>\n    </tr>\n    <tr>\n      <th>h</th>\n      <td>cat</td>\n      <td>NaN</td>\n      <td>1</td>\n      <td>yes</td>\n    </tr>\n    <tr>\n      <th>i</th>\n      <td>dog</td>\n      <td>7.0</td>\n      <td>2</td>\n      <td>no</td>\n    </tr>\n    <tr>\n      <th>j</th>\n      <td>dog</td>\n      <td>3.0</td>\n      <td>1</td>\n      <td>no</td>\n    </tr>\n  </tbody>\n</table>\n</div>"
     },
     "metadata": {},
     "execution_count": 4
    }
   ],
   "source": [
    "df = pd.DataFrame(data,index=labels)\n",
    "df#.index = labels"
   ]
  },
  {
   "cell_type": "code",
   "execution_count": 5,
   "metadata": {},
   "outputs": [
    {
     "output_type": "execute_result",
     "data": {
      "text/plain": [
       "array(['cat', 'dog'], dtype=object)"
      ]
     },
     "metadata": {},
     "execution_count": 5
    }
   ],
   "source": [
    "selection = df[df.visits >= 3]\n",
    "selection.animal.unique()\n"
   ]
  },
  {
   "cell_type": "code",
   "execution_count": 6,
   "metadata": {},
   "outputs": [
    {
     "output_type": "execute_result",
     "data": {
      "text/plain": [
       "  animal  age  visits priority\n",
       "b    cat  3.0       3      yes\n",
       "f    cat  2.0       3       no"
      ],
      "text/html": "<div>\n<style scoped>\n    .dataframe tbody tr th:only-of-type {\n        vertical-align: middle;\n    }\n\n    .dataframe tbody tr th {\n        vertical-align: top;\n    }\n\n    .dataframe thead th {\n        text-align: right;\n    }\n</style>\n<table border=\"1\" class=\"dataframe\">\n  <thead>\n    <tr style=\"text-align: right;\">\n      <th></th>\n      <th>animal</th>\n      <th>age</th>\n      <th>visits</th>\n      <th>priority</th>\n    </tr>\n  </thead>\n  <tbody>\n    <tr>\n      <th>b</th>\n      <td>cat</td>\n      <td>3.0</td>\n      <td>3</td>\n      <td>yes</td>\n    </tr>\n    <tr>\n      <th>f</th>\n      <td>cat</td>\n      <td>2.0</td>\n      <td>3</td>\n      <td>no</td>\n    </tr>\n  </tbody>\n</table>\n</div>"
     },
     "metadata": {},
     "execution_count": 6
    }
   ],
   "source": [
    "df.loc[(df.visits==3) & (df.animal == 'cat')]\n"
   ]
  },
  {
   "cell_type": "code",
   "execution_count": 7,
   "metadata": {},
   "outputs": [
    {
     "output_type": "execute_result",
     "data": {
      "text/plain": [
       "19"
      ]
     },
     "metadata": {},
     "execution_count": 7
    }
   ],
   "source": [
    "df.visits.sum()"
   ]
  },
  {
   "cell_type": "code",
   "execution_count": 8,
   "metadata": {},
   "outputs": [
    {
     "output_type": "execute_result",
     "data": {
      "text/plain": [
       "animal\n",
       "cat      2.5\n",
       "dog      5.0\n",
       "snake    2.5\n",
       "Name: age, dtype: float64"
      ]
     },
     "metadata": {},
     "execution_count": 8
    }
   ],
   "source": [
    "df.groupby('animal')['age'].mean()"
   ]
  },
  {
   "cell_type": "code",
   "execution_count": 9,
   "metadata": {},
   "outputs": [
    {
     "output_type": "execute_result",
     "data": {
      "text/plain": [
       "  animal  age  visits priority\n",
       "a    cat  2.5       1      yes\n",
       "b    cat  3.0       3      yes\n",
       "c  snake  0.5       2       no\n",
       "d    dog  NaN       3      yes\n",
       "e    dog  5.0       2       no\n",
       "f    cat  2.0       3       no\n",
       "g  snake  4.5       1       no\n",
       "h    cat  NaN       1      yes\n",
       "i    dog  7.0       2       no\n",
       "j    dog  3.0       1       no\n",
       "k    cat  8.2      10       no"
      ],
      "text/html": "<div>\n<style scoped>\n    .dataframe tbody tr th:only-of-type {\n        vertical-align: middle;\n    }\n\n    .dataframe tbody tr th {\n        vertical-align: top;\n    }\n\n    .dataframe thead th {\n        text-align: right;\n    }\n</style>\n<table border=\"1\" class=\"dataframe\">\n  <thead>\n    <tr style=\"text-align: right;\">\n      <th></th>\n      <th>animal</th>\n      <th>age</th>\n      <th>visits</th>\n      <th>priority</th>\n    </tr>\n  </thead>\n  <tbody>\n    <tr>\n      <th>a</th>\n      <td>cat</td>\n      <td>2.5</td>\n      <td>1</td>\n      <td>yes</td>\n    </tr>\n    <tr>\n      <th>b</th>\n      <td>cat</td>\n      <td>3.0</td>\n      <td>3</td>\n      <td>yes</td>\n    </tr>\n    <tr>\n      <th>c</th>\n      <td>snake</td>\n      <td>0.5</td>\n      <td>2</td>\n      <td>no</td>\n    </tr>\n    <tr>\n      <th>d</th>\n      <td>dog</td>\n      <td>NaN</td>\n      <td>3</td>\n      <td>yes</td>\n    </tr>\n    <tr>\n      <th>e</th>\n      <td>dog</td>\n      <td>5.0</td>\n      <td>2</td>\n      <td>no</td>\n    </tr>\n    <tr>\n      <th>f</th>\n      <td>cat</td>\n      <td>2.0</td>\n      <td>3</td>\n      <td>no</td>\n    </tr>\n    <tr>\n      <th>g</th>\n      <td>snake</td>\n      <td>4.5</td>\n      <td>1</td>\n      <td>no</td>\n    </tr>\n    <tr>\n      <th>h</th>\n      <td>cat</td>\n      <td>NaN</td>\n      <td>1</td>\n      <td>yes</td>\n    </tr>\n    <tr>\n      <th>i</th>\n      <td>dog</td>\n      <td>7.0</td>\n      <td>2</td>\n      <td>no</td>\n    </tr>\n    <tr>\n      <th>j</th>\n      <td>dog</td>\n      <td>3.0</td>\n      <td>1</td>\n      <td>no</td>\n    </tr>\n    <tr>\n      <th>k</th>\n      <td>cat</td>\n      <td>8.2</td>\n      <td>10</td>\n      <td>no</td>\n    </tr>\n  </tbody>\n</table>\n</div>"
     },
     "metadata": {},
     "execution_count": 9
    }
   ],
   "source": [
    "df.loc['k']=['cat',8.2,10,'no']\n",
    "df"
   ]
  },
  {
   "cell_type": "code",
   "execution_count": 10,
   "metadata": {},
   "outputs": [
    {
     "output_type": "execute_result",
     "data": {
      "text/plain": [
       "  animal  age  visits priority\n",
       "a    cat  2.5       1      yes\n",
       "b    cat  3.0       3      yes\n",
       "c  snake  0.5       2       no\n",
       "d    dog  NaN       3      yes\n",
       "e    dog  5.0       2       no\n",
       "f    cat  2.0       3       no\n",
       "g  snake  4.5       1       no\n",
       "h    cat  NaN       1      yes\n",
       "i    dog  7.0       2       no\n",
       "j    dog  3.0       1       no"
      ],
      "text/html": "<div>\n<style scoped>\n    .dataframe tbody tr th:only-of-type {\n        vertical-align: middle;\n    }\n\n    .dataframe tbody tr th {\n        vertical-align: top;\n    }\n\n    .dataframe thead th {\n        text-align: right;\n    }\n</style>\n<table border=\"1\" class=\"dataframe\">\n  <thead>\n    <tr style=\"text-align: right;\">\n      <th></th>\n      <th>animal</th>\n      <th>age</th>\n      <th>visits</th>\n      <th>priority</th>\n    </tr>\n  </thead>\n  <tbody>\n    <tr>\n      <th>a</th>\n      <td>cat</td>\n      <td>2.5</td>\n      <td>1</td>\n      <td>yes</td>\n    </tr>\n    <tr>\n      <th>b</th>\n      <td>cat</td>\n      <td>3.0</td>\n      <td>3</td>\n      <td>yes</td>\n    </tr>\n    <tr>\n      <th>c</th>\n      <td>snake</td>\n      <td>0.5</td>\n      <td>2</td>\n      <td>no</td>\n    </tr>\n    <tr>\n      <th>d</th>\n      <td>dog</td>\n      <td>NaN</td>\n      <td>3</td>\n      <td>yes</td>\n    </tr>\n    <tr>\n      <th>e</th>\n      <td>dog</td>\n      <td>5.0</td>\n      <td>2</td>\n      <td>no</td>\n    </tr>\n    <tr>\n      <th>f</th>\n      <td>cat</td>\n      <td>2.0</td>\n      <td>3</td>\n      <td>no</td>\n    </tr>\n    <tr>\n      <th>g</th>\n      <td>snake</td>\n      <td>4.5</td>\n      <td>1</td>\n      <td>no</td>\n    </tr>\n    <tr>\n      <th>h</th>\n      <td>cat</td>\n      <td>NaN</td>\n      <td>1</td>\n      <td>yes</td>\n    </tr>\n    <tr>\n      <th>i</th>\n      <td>dog</td>\n      <td>7.0</td>\n      <td>2</td>\n      <td>no</td>\n    </tr>\n    <tr>\n      <th>j</th>\n      <td>dog</td>\n      <td>3.0</td>\n      <td>1</td>\n      <td>no</td>\n    </tr>\n  </tbody>\n</table>\n</div>"
     },
     "metadata": {},
     "execution_count": 10
    }
   ],
   "source": [
    "df.drop(['k'])"
   ]
  },
  {
   "cell_type": "markdown",
   "metadata": {},
   "source": [
    "# 2.1 Shifty problem\n",
    "\n",
    "You have a DataFrame `df` with a column 'A' of integers. For example:\n",
    "```python\n",
    "df = pd.DataFrame({'A': [1, 2, 2, 3, 4, 5, 5, 5, 6, 7, 7]})\n",
    "```\n",
    "\n",
    "How do you filter out rows which contain the same integer as the row immediately above?\n",
    "\n",
    "You should be left with a column containing the following values:\n",
    "\n",
    "```python\n",
    "1, 2, 3, 4, 5, 6, 7\n",
    "```\n",
    "\n",
    "### Hint: use the `shift()` method"
   ]
  },
  {
   "cell_type": "code",
   "execution_count": 35,
   "metadata": {},
   "outputs": [],
   "source": [
    "df = pd.DataFrame({'A': [1, 2, 2, 3, 4, 5, 5, 5, 6, 7, 7]})"
   ]
  },
  {
   "cell_type": "code",
   "execution_count": 37,
   "metadata": {},
   "outputs": [
    {
     "output_type": "execute_result",
     "data": {
      "text/plain": [
       "   A\n",
       "0  1\n",
       "1  2\n",
       "2  3\n",
       "3  4\n",
       "4  5\n",
       "5  6\n",
       "6  7"
      ],
      "text/html": "<div>\n<style scoped>\n    .dataframe tbody tr th:only-of-type {\n        vertical-align: middle;\n    }\n\n    .dataframe tbody tr th {\n        vertical-align: top;\n    }\n\n    .dataframe thead th {\n        text-align: right;\n    }\n</style>\n<table border=\"1\" class=\"dataframe\">\n  <thead>\n    <tr style=\"text-align: right;\">\n      <th></th>\n      <th>A</th>\n    </tr>\n  </thead>\n  <tbody>\n    <tr>\n      <th>0</th>\n      <td>1</td>\n    </tr>\n    <tr>\n      <th>1</th>\n      <td>2</td>\n    </tr>\n    <tr>\n      <th>2</th>\n      <td>3</td>\n    </tr>\n    <tr>\n      <th>3</th>\n      <td>4</td>\n    </tr>\n    <tr>\n      <th>4</th>\n      <td>5</td>\n    </tr>\n    <tr>\n      <th>5</th>\n      <td>6</td>\n    </tr>\n    <tr>\n      <th>6</th>\n      <td>7</td>\n    </tr>\n  </tbody>\n</table>\n</div>"
     },
     "metadata": {},
     "execution_count": 37
    }
   ],
   "source": [
    "df['shifted_A']=df.shift(periods=1,axis=0)\n",
    "df\n",
    "\n",
    "df = df.loc[(df.shifted_A != df.A)]\n",
    "df = df.drop(columns=['shifted_A'])\n",
    "#df = df.reset_index(drop=True)\n",
    "df"
   ]
  },
  {
   "cell_type": "markdown",
   "metadata": {},
   "source": [
    "# 2.2 columns sum min\n",
    "\n",
    "Suppose you have DataFrame with 10 columns of real numbers, for example:\n",
    "\n",
    "```python\n",
    "df = pd.DataFrame(np.random.random(size=(5, 10)), columns=list('abcdefghij'))\n",
    "```\n",
    "Which column of numbers has the smallest sum? Return that column's label."
   ]
  },
  {
   "cell_type": "code",
   "execution_count": 38,
   "metadata": {},
   "outputs": [],
   "source": [
    "df = pd.DataFrame(np.random.random(size=(5, 10)), columns=list('abcdefghij'))"
   ]
  },
  {
   "cell_type": "code",
   "execution_count": 58,
   "metadata": {},
   "outputs": [
    {
     "output_type": "execute_result",
     "data": {
      "text/plain": [
       "e    1.269815\n",
       "dtype: float64"
      ]
     },
     "metadata": {},
     "execution_count": 58
    }
   ],
   "source": [
    "total = df.sum(axis=0)\n",
    "total.loc[(total == total.min())]"
   ]
  },
  {
   "cell_type": "code",
   "execution_count": 59,
   "metadata": {},
   "outputs": [
    {
     "output_type": "execute_result",
     "data": {
      "text/plain": [
       "'e'"
      ]
     },
     "metadata": {},
     "execution_count": 59
    }
   ],
   "source": [
    "df.sum().idxmin()"
   ]
  },
  {
   "cell_type": "markdown",
   "metadata": {},
   "source": [
    "# 2.3 Duplicates\n",
    "\n",
    "How do you count how many unique rows a DataFrame has (i.e. ignore all rows that are duplicates)?\n",
    "\n",
    "**hint:** There's a method for to find duplicate rows for you"
   ]
  },
  {
   "cell_type": "code",
   "execution_count": 75,
   "metadata": {},
   "outputs": [],
   "source": [
    "df = pd.DataFrame({'A': [1, 2, 2, 3, 4, 5, 5, 5, 6, 7, 7]})\n"
   ]
  },
  {
   "cell_type": "code",
   "execution_count": 76,
   "metadata": {},
   "outputs": [
    {
     "output_type": "execute_result",
     "data": {
      "text/plain": [
       "7"
      ]
     },
     "metadata": {},
     "execution_count": 76
    }
   ],
   "source": [
    "dff = df.duplicated(subset=None, keep='first') == False\n",
    "dff.sum()"
   ]
  },
  {
   "cell_type": "code",
   "execution_count": 79,
   "metadata": {},
   "outputs": [
    {
     "output_type": "execute_result",
     "data": {
      "text/plain": [
       "A    7\n",
       "dtype: int64"
      ]
     },
     "metadata": {},
     "execution_count": 79
    }
   ],
   "source": [
    "df.drop_duplicates().count()"
   ]
  },
  {
   "cell_type": "markdown",
   "metadata": {},
   "source": [
    "# 2.4 Group Values\n",
    "\n",
    "A DataFrame has a column of groups 'grps' and and column of integer values 'vals': \n",
    "\n",
    "```python\n",
    "df = pd.DataFrame({'grps': list('aaabbcaabcccbbc'), \n",
    "                   'vals': [12,345,3,1,45,14,4,52,54,23,235,21,57,3,87]})\n",
    "```\n",
    "For each *group*, find the sum of the three greatest values.  You should end up with the answer as follows:\n",
    "```\n",
    "grps\n",
    "a    409\n",
    "b    156\n",
    "c    345\n",
    "```"
   ]
  },
  {
   "cell_type": "code",
   "execution_count": 80,
   "metadata": {},
   "outputs": [],
   "source": [
    "df = pd.DataFrame({'grps': list('aaabbcaabcccbbc'), \n",
    "                   'vals': [12,345,3,1,45,14,4,52,54,23,235,21,57,3,87]})"
   ]
  },
  {
   "cell_type": "code",
   "execution_count": 90,
   "metadata": {},
   "outputs": [
    {
     "output_type": "execute_result",
     "data": {
      "text/plain": [
       "grps\n",
       "a    397\n",
       "b    111\n",
       "c    322\n",
       "Name: vals, dtype: int64"
      ]
     },
     "metadata": {},
     "execution_count": 90
    }
   ],
   "source": [
    "df.groupby('grps')['vals'].apply(lambda grp: grp.nlargest(2).sum())"
   ]
  },
  {
   "cell_type": "code",
   "execution_count": null,
   "metadata": {},
   "outputs": [],
   "source": []
  },
  {
   "cell_type": "markdown",
   "metadata": {},
   "source": [
    "# 3. Cleaning Data\n",
    "\n",
    "### Making a DataFrame easier to work with\n",
    "\n",
    "It happens all the time: someone gives you data containing malformed strings, Python, lists and missing data. How do you tidy it up so you can get on with the analysis?\n",
    "\n",
    "Take this monstrosity as the DataFrame to use in the following puzzles:\n",
    "\n",
    "```python\n",
    "df = pd.DataFrame({'From_To': ['LoNDon_paris', 'MAdrid_miLAN', 'londON_StockhOlm', \n",
    "                               'Budapest_PaRis', 'Brussels_londOn'],\n",
    "              'FlightNumber': [10045, np.nan, 10065, np.nan, 10085],\n",
    "              'RecentDelays': [[23, 47], [], [24, 43, 87], [13], [67, 32]],\n",
    "                   'Airline': ['KLM(!)', '<Air France> (12)', '(British Airways. )', \n",
    "                               '12. Air France', '\"Swiss Air\"']})\n",
    "```\n",
    "\n",
    "Formatted, it looks like this:\n",
    "\n",
    "```\n",
    "            From_To  FlightNumber  RecentDelays              Airline\n",
    "0      LoNDon_paris       10045.0      [23, 47]               KLM(!)\n",
    "1      MAdrid_miLAN           NaN            []    <Air France> (12)\n",
    "2  londON_StockhOlm       10065.0  [24, 43, 87]  (British Airways. )\n",
    "3    Budapest_PaRis           NaN          [13]       12. Air France\n",
    "4   Brussels_londOn       10085.0      [67, 32]          \"Swiss Air\"\n",
    "```\n",
    "\n",
    "**1.** Some values in the the **FlightNumber** column are missing (they are `NaN`). These numbers are meant to increase by 10 with each row so 10055 and 10075 need to be put in place. Modify `df` to fill in these missing numbers and make the column an integer column (instead of a float column)."
   ]
  },
  {
   "cell_type": "code",
   "execution_count": 14,
   "metadata": {},
   "outputs": [],
   "source": [
    "import numpy as np\n",
    "import pandas as pd\n",
    "df = pd.DataFrame({'From_To': ['LoNDon_paris', 'MAdrid_miLAN', 'londON_StockhOlm', \n",
    "                               'Budapest_PaRis', 'Brussels_londOn'],\n",
    "              'FlightNumber': [10045, np.nan, 10065, np.nan, 10085],\n",
    "              'RecentDelays': [[23, 47], [], [24, 43, 87], [13], [67, 32]],\n",
    "                   'Airline': ['KLM(!)', '<Air France> (12)', '(British Airways. )', \n",
    "                               '12. Air France', '\"Swiss Air\"']})"
   ]
  },
  {
   "cell_type": "code",
   "execution_count": 17,
   "metadata": {},
   "outputs": [],
   "source": [
    "df['shifted_flight'] = df['FlightNumber'].shift(periods=1,axis=0)\n",
    "#df['FlightNumber'] = df['FlightNumber'].replace(np.nan, (df['shifted_flight']) + 10.0)\n",
    "#df.FlightNumber = df.FlightNumber.replace(np.nan, (df.shifted_flight + 10))\n",
    "#df = df.drop(columns=['shifted_flight'])\n",
    "#df"
   ]
  },
  {
   "cell_type": "code",
   "execution_count": 18,
   "metadata": {},
   "outputs": [],
   "source": [
    "df.FlightNumber[df.FlightNumber.isna()] = df.shifted_flight + 10\n",
    "df = df.drop(columns=['shifted_flight'])#df.drop('shifted_flight',axis=1)\n",
    "df.FlightNumber =df.FlightNumber.astype(int)\n"
   ]
  },
  {
   "cell_type": "code",
   "execution_count": 19,
   "metadata": {},
   "outputs": [
    {
     "output_type": "execute_result",
     "data": {
      "text/plain": [
       "            From_To  FlightNumber  RecentDelays              Airline  \\\n",
       "0      LoNDon_paris         10045      [23, 47]               KLM(!)   \n",
       "1      MAdrid_miLAN         10055            []    <Air France> (12)   \n",
       "2  londON_StockhOlm         10065  [24, 43, 87]  (British Airways. )   \n",
       "3    Budapest_PaRis         10075          [13]       12. Air France   \n",
       "4   Brussels_londOn         10085      [67, 32]          \"Swiss Air\"   \n",
       "\n",
       "   shifted_flight  \n",
       "0             NaN  \n",
       "1         10045.0  \n",
       "2             NaN  \n",
       "3         10065.0  \n",
       "4             NaN  "
      ],
      "text/html": "<div>\n<style scoped>\n    .dataframe tbody tr th:only-of-type {\n        vertical-align: middle;\n    }\n\n    .dataframe tbody tr th {\n        vertical-align: top;\n    }\n\n    .dataframe thead th {\n        text-align: right;\n    }\n</style>\n<table border=\"1\" class=\"dataframe\">\n  <thead>\n    <tr style=\"text-align: right;\">\n      <th></th>\n      <th>From_To</th>\n      <th>FlightNumber</th>\n      <th>RecentDelays</th>\n      <th>Airline</th>\n      <th>shifted_flight</th>\n    </tr>\n  </thead>\n  <tbody>\n    <tr>\n      <th>0</th>\n      <td>LoNDon_paris</td>\n      <td>10045</td>\n      <td>[23, 47]</td>\n      <td>KLM(!)</td>\n      <td>NaN</td>\n    </tr>\n    <tr>\n      <th>1</th>\n      <td>MAdrid_miLAN</td>\n      <td>10055</td>\n      <td>[]</td>\n      <td>&lt;Air France&gt; (12)</td>\n      <td>10045.0</td>\n    </tr>\n    <tr>\n      <th>2</th>\n      <td>londON_StockhOlm</td>\n      <td>10065</td>\n      <td>[24, 43, 87]</td>\n      <td>(British Airways. )</td>\n      <td>NaN</td>\n    </tr>\n    <tr>\n      <th>3</th>\n      <td>Budapest_PaRis</td>\n      <td>10075</td>\n      <td>[13]</td>\n      <td>12. Air France</td>\n      <td>10065.0</td>\n    </tr>\n    <tr>\n      <th>4</th>\n      <td>Brussels_londOn</td>\n      <td>10085</td>\n      <td>[67, 32]</td>\n      <td>\"Swiss Air\"</td>\n      <td>NaN</td>\n    </tr>\n  </tbody>\n</table>\n</div>"
     },
     "metadata": {},
     "execution_count": 19
    }
   ],
   "source": [
    "df"
   ]
  },
  {
   "cell_type": "markdown",
   "metadata": {},
   "source": [
    "# 3.2 column splitting\n",
    "\n",
    "The **From\\_To** column would be better as two separate columns! Split each string on the underscore delimiter `_` to make two new columns `From` and `To` to your dataframe."
   ]
  },
  {
   "cell_type": "code",
   "execution_count": 23,
   "metadata": {},
   "outputs": [],
   "source": [
    "df[['From','to']] = df.From_To.str.split('_',1,expand=True)"
   ]
  },
  {
   "cell_type": "code",
   "execution_count": 24,
   "metadata": {},
   "outputs": [
    {
     "output_type": "execute_result",
     "data": {
      "text/plain": [
       "            From_To  FlightNumber  RecentDelays              Airline  \\\n",
       "0      LoNDon_paris         10045      [23, 47]               KLM(!)   \n",
       "1      MAdrid_miLAN         10055            []    <Air France> (12)   \n",
       "2  londON_StockhOlm         10065  [24, 43, 87]  (British Airways. )   \n",
       "3    Budapest_PaRis         10075          [13]       12. Air France   \n",
       "4   Brussels_londOn         10085      [67, 32]          \"Swiss Air\"   \n",
       "\n",
       "   shifted_flight      From         to  \n",
       "0             NaN    LoNDon      paris  \n",
       "1         10045.0    MAdrid      miLAN  \n",
       "2             NaN    londON  StockhOlm  \n",
       "3         10065.0  Budapest      PaRis  \n",
       "4             NaN  Brussels     londOn  "
      ],
      "text/html": "<div>\n<style scoped>\n    .dataframe tbody tr th:only-of-type {\n        vertical-align: middle;\n    }\n\n    .dataframe tbody tr th {\n        vertical-align: top;\n    }\n\n    .dataframe thead th {\n        text-align: right;\n    }\n</style>\n<table border=\"1\" class=\"dataframe\">\n  <thead>\n    <tr style=\"text-align: right;\">\n      <th></th>\n      <th>From_To</th>\n      <th>FlightNumber</th>\n      <th>RecentDelays</th>\n      <th>Airline</th>\n      <th>shifted_flight</th>\n      <th>From</th>\n      <th>to</th>\n    </tr>\n  </thead>\n  <tbody>\n    <tr>\n      <th>0</th>\n      <td>LoNDon_paris</td>\n      <td>10045</td>\n      <td>[23, 47]</td>\n      <td>KLM(!)</td>\n      <td>NaN</td>\n      <td>LoNDon</td>\n      <td>paris</td>\n    </tr>\n    <tr>\n      <th>1</th>\n      <td>MAdrid_miLAN</td>\n      <td>10055</td>\n      <td>[]</td>\n      <td>&lt;Air France&gt; (12)</td>\n      <td>10045.0</td>\n      <td>MAdrid</td>\n      <td>miLAN</td>\n    </tr>\n    <tr>\n      <th>2</th>\n      <td>londON_StockhOlm</td>\n      <td>10065</td>\n      <td>[24, 43, 87]</td>\n      <td>(British Airways. )</td>\n      <td>NaN</td>\n      <td>londON</td>\n      <td>StockhOlm</td>\n    </tr>\n    <tr>\n      <th>3</th>\n      <td>Budapest_PaRis</td>\n      <td>10075</td>\n      <td>[13]</td>\n      <td>12. Air France</td>\n      <td>10065.0</td>\n      <td>Budapest</td>\n      <td>PaRis</td>\n    </tr>\n    <tr>\n      <th>4</th>\n      <td>Brussels_londOn</td>\n      <td>10085</td>\n      <td>[67, 32]</td>\n      <td>\"Swiss Air\"</td>\n      <td>NaN</td>\n      <td>Brussels</td>\n      <td>londOn</td>\n    </tr>\n  </tbody>\n</table>\n</div>"
     },
     "metadata": {},
     "execution_count": 24
    }
   ],
   "source": [
    "df\n"
   ]
  },
  {
   "cell_type": "code",
   "execution_count": null,
   "metadata": {},
   "outputs": [],
   "source": []
  },
  {
   "cell_type": "markdown",
   "metadata": {},
   "source": [
    "# 3.3 Clean Text\n",
    "\n",
    "Make the text in your dataframe:\n",
    "\n",
    "- From and To columns should be lowercase with only first letter capitalized\n",
    "\n",
    "- In the **Airline** column, you can see some extra puctuation and symbols have appeared around the airline names. Pull out just the airline name. E.g. `'(British Airways. )'` should become `'British Airways'`."
   ]
  },
  {
   "cell_type": "code",
   "execution_count": 54,
   "metadata": {},
   "outputs": [],
   "source": [
    "df.Airline = df.Airline.str.replace('[#,@,&,\",>,<,1,2,3,4,5,6,7,8,9,.,?,!]', '') "
   ]
  },
  {
   "cell_type": "code",
   "execution_count": 55,
   "metadata": {},
   "outputs": [
    {
     "output_type": "execute_result",
     "data": {
      "text/plain": [
       "            From_To  FlightNumber  RecentDelays           Airline  \\\n",
       "0      LoNDon_paris         10045      [23, 47]               KLM   \n",
       "1      MAdrid_miLAN         10055            []       Air France    \n",
       "2  londON_StockhOlm         10065  [24, 43, 87]  British Airways    \n",
       "3    Budapest_PaRis         10075          [13]        Air France   \n",
       "4   Brussels_londOn         10085      [67, 32]         Swiss Air   \n",
       "\n",
       "   shifted_flight      From         to  \n",
       "0             NaN    LoNDon      paris  \n",
       "1         10045.0    MAdrid      miLAN  \n",
       "2             NaN    londON  StockhOlm  \n",
       "3         10065.0  Budapest      PaRis  \n",
       "4             NaN  Brussels     londOn  "
      ],
      "text/html": "<div>\n<style scoped>\n    .dataframe tbody tr th:only-of-type {\n        vertical-align: middle;\n    }\n\n    .dataframe tbody tr th {\n        vertical-align: top;\n    }\n\n    .dataframe thead th {\n        text-align: right;\n    }\n</style>\n<table border=\"1\" class=\"dataframe\">\n  <thead>\n    <tr style=\"text-align: right;\">\n      <th></th>\n      <th>From_To</th>\n      <th>FlightNumber</th>\n      <th>RecentDelays</th>\n      <th>Airline</th>\n      <th>shifted_flight</th>\n      <th>From</th>\n      <th>to</th>\n    </tr>\n  </thead>\n  <tbody>\n    <tr>\n      <th>0</th>\n      <td>LoNDon_paris</td>\n      <td>10045</td>\n      <td>[23, 47]</td>\n      <td>KLM</td>\n      <td>NaN</td>\n      <td>LoNDon</td>\n      <td>paris</td>\n    </tr>\n    <tr>\n      <th>1</th>\n      <td>MAdrid_miLAN</td>\n      <td>10055</td>\n      <td>[]</td>\n      <td>Air France</td>\n      <td>10045.0</td>\n      <td>MAdrid</td>\n      <td>miLAN</td>\n    </tr>\n    <tr>\n      <th>2</th>\n      <td>londON_StockhOlm</td>\n      <td>10065</td>\n      <td>[24, 43, 87]</td>\n      <td>British Airways</td>\n      <td>NaN</td>\n      <td>londON</td>\n      <td>StockhOlm</td>\n    </tr>\n    <tr>\n      <th>3</th>\n      <td>Budapest_PaRis</td>\n      <td>10075</td>\n      <td>[13]</td>\n      <td>Air France</td>\n      <td>10065.0</td>\n      <td>Budapest</td>\n      <td>PaRis</td>\n    </tr>\n    <tr>\n      <th>4</th>\n      <td>Brussels_londOn</td>\n      <td>10085</td>\n      <td>[67, 32]</td>\n      <td>Swiss Air</td>\n      <td>NaN</td>\n      <td>Brussels</td>\n      <td>londOn</td>\n    </tr>\n  </tbody>\n</table>\n</div>"
     },
     "metadata": {},
     "execution_count": 55
    }
   ],
   "source": [
    "df"
   ]
  },
  {
   "cell_type": "markdown",
   "metadata": {},
   "source": [
    "# Exercise 4.1: Column Splitting\n",
    "\n",
    "Given the unemployment data in `data/country_total.csv`, split the `month` column into two new columns: a `year` column and a `month` column, both integers"
   ]
  },
  {
   "cell_type": "code",
   "execution_count": 96,
   "metadata": {},
   "outputs": [
    {
     "output_type": "execute_result",
     "data": {
      "text/plain": [
       "      country seasonality    month  unemployment  unemployment_rate\n",
       "0          at         nsa  1993.01        171000                4.5\n",
       "1          at         nsa  1993.02        175000                4.6\n",
       "2          at         nsa  1993.03        166000                4.4\n",
       "3          at         nsa  1993.04        157000                4.1\n",
       "4          at         nsa  1993.05        147000                3.9\n",
       "...       ...         ...      ...           ...                ...\n",
       "20791      uk       trend  2010.06       2429000                7.7\n",
       "20792      uk       trend  2010.07       2422000                7.7\n",
       "20793      uk       trend  2010.08       2429000                7.7\n",
       "20794      uk       trend  2010.09       2447000                7.8\n",
       "20795      uk       trend  2010.10       2455000                7.8\n",
       "\n",
       "[20796 rows x 5 columns]"
      ],
      "text/html": "<div>\n<style scoped>\n    .dataframe tbody tr th:only-of-type {\n        vertical-align: middle;\n    }\n\n    .dataframe tbody tr th {\n        vertical-align: top;\n    }\n\n    .dataframe thead th {\n        text-align: right;\n    }\n</style>\n<table border=\"1\" class=\"dataframe\">\n  <thead>\n    <tr style=\"text-align: right;\">\n      <th></th>\n      <th>country</th>\n      <th>seasonality</th>\n      <th>month</th>\n      <th>unemployment</th>\n      <th>unemployment_rate</th>\n    </tr>\n  </thead>\n  <tbody>\n    <tr>\n      <th>0</th>\n      <td>at</td>\n      <td>nsa</td>\n      <td>1993.01</td>\n      <td>171000</td>\n      <td>4.5</td>\n    </tr>\n    <tr>\n      <th>1</th>\n      <td>at</td>\n      <td>nsa</td>\n      <td>1993.02</td>\n      <td>175000</td>\n      <td>4.6</td>\n    </tr>\n    <tr>\n      <th>2</th>\n      <td>at</td>\n      <td>nsa</td>\n      <td>1993.03</td>\n      <td>166000</td>\n      <td>4.4</td>\n    </tr>\n    <tr>\n      <th>3</th>\n      <td>at</td>\n      <td>nsa</td>\n      <td>1993.04</td>\n      <td>157000</td>\n      <td>4.1</td>\n    </tr>\n    <tr>\n      <th>4</th>\n      <td>at</td>\n      <td>nsa</td>\n      <td>1993.05</td>\n      <td>147000</td>\n      <td>3.9</td>\n    </tr>\n    <tr>\n      <th>...</th>\n      <td>...</td>\n      <td>...</td>\n      <td>...</td>\n      <td>...</td>\n      <td>...</td>\n    </tr>\n    <tr>\n      <th>20791</th>\n      <td>uk</td>\n      <td>trend</td>\n      <td>2010.06</td>\n      <td>2429000</td>\n      <td>7.7</td>\n    </tr>\n    <tr>\n      <th>20792</th>\n      <td>uk</td>\n      <td>trend</td>\n      <td>2010.07</td>\n      <td>2422000</td>\n      <td>7.7</td>\n    </tr>\n    <tr>\n      <th>20793</th>\n      <td>uk</td>\n      <td>trend</td>\n      <td>2010.08</td>\n      <td>2429000</td>\n      <td>7.7</td>\n    </tr>\n    <tr>\n      <th>20794</th>\n      <td>uk</td>\n      <td>trend</td>\n      <td>2010.09</td>\n      <td>2447000</td>\n      <td>7.8</td>\n    </tr>\n    <tr>\n      <th>20795</th>\n      <td>uk</td>\n      <td>trend</td>\n      <td>2010.10</td>\n      <td>2455000</td>\n      <td>7.8</td>\n    </tr>\n  </tbody>\n</table>\n<p>20796 rows × 5 columns</p>\n</div>"
     },
     "metadata": {},
     "execution_count": 96
    }
   ],
   "source": [
    "import pandas as pd\n",
    "df_ct = pd.DataFrame(pd.read_csv(\"data/country_total.csv\"))\n",
    "df_ct"
   ]
  },
  {
   "cell_type": "code",
   "execution_count": 111,
   "metadata": {},
   "outputs": [
    {
     "output_type": "execute_result",
     "data": {
      "text/plain": [
       "country               object\n",
       "seasonality           object\n",
       "year_month           float64\n",
       "unemployment           int64\n",
       "unemployment_rate    float64\n",
       "dtype: object"
      ]
     },
     "metadata": {},
     "execution_count": 111
    }
   ],
   "source": [
    "df_ct = df_ct.rename(columns={'month' : 'year_month'})\n",
    "df_ct.dtypes"
   ]
  },
  {
   "cell_type": "code",
   "execution_count": 127,
   "metadata": {},
   "outputs": [],
   "source": [
    "df_ct.year_month = df_ct.year_month.astype(str)\n",
    "df_ct[['year','month']] = df_ct.year_month.str.split('.',1,expand=True)"
   ]
  },
  {
   "cell_type": "code",
   "execution_count": 128,
   "metadata": {},
   "outputs": [
    {
     "output_type": "execute_result",
     "data": {
      "text/plain": [
       "      country seasonality year_month  unemployment  unemployment_rate  year  \\\n",
       "0          at         nsa    1993.01        171000                4.5  1993   \n",
       "1          at         nsa    1993.02        175000                4.6  1993   \n",
       "2          at         nsa    1993.03        166000                4.4  1993   \n",
       "3          at         nsa    1993.04        157000                4.1  1993   \n",
       "4          at         nsa    1993.05        147000                3.9  1993   \n",
       "...       ...         ...        ...           ...                ...   ...   \n",
       "20791      uk       trend    2010.06       2429000                7.7  2010   \n",
       "20792      uk       trend    2010.07       2422000                7.7  2010   \n",
       "20793      uk       trend    2010.08       2429000                7.7  2010   \n",
       "20794      uk       trend    2010.09       2447000                7.8  2010   \n",
       "20795      uk       trend     2010.1       2455000                7.8  2010   \n",
       "\n",
       "      month  \n",
       "0        01  \n",
       "1        02  \n",
       "2        03  \n",
       "3        04  \n",
       "4        05  \n",
       "...     ...  \n",
       "20791    06  \n",
       "20792    07  \n",
       "20793    08  \n",
       "20794    09  \n",
       "20795     1  \n",
       "\n",
       "[20796 rows x 7 columns]"
      ],
      "text/html": "<div>\n<style scoped>\n    .dataframe tbody tr th:only-of-type {\n        vertical-align: middle;\n    }\n\n    .dataframe tbody tr th {\n        vertical-align: top;\n    }\n\n    .dataframe thead th {\n        text-align: right;\n    }\n</style>\n<table border=\"1\" class=\"dataframe\">\n  <thead>\n    <tr style=\"text-align: right;\">\n      <th></th>\n      <th>country</th>\n      <th>seasonality</th>\n      <th>year_month</th>\n      <th>unemployment</th>\n      <th>unemployment_rate</th>\n      <th>year</th>\n      <th>month</th>\n    </tr>\n  </thead>\n  <tbody>\n    <tr>\n      <th>0</th>\n      <td>at</td>\n      <td>nsa</td>\n      <td>1993.01</td>\n      <td>171000</td>\n      <td>4.5</td>\n      <td>1993</td>\n      <td>01</td>\n    </tr>\n    <tr>\n      <th>1</th>\n      <td>at</td>\n      <td>nsa</td>\n      <td>1993.02</td>\n      <td>175000</td>\n      <td>4.6</td>\n      <td>1993</td>\n      <td>02</td>\n    </tr>\n    <tr>\n      <th>2</th>\n      <td>at</td>\n      <td>nsa</td>\n      <td>1993.03</td>\n      <td>166000</td>\n      <td>4.4</td>\n      <td>1993</td>\n      <td>03</td>\n    </tr>\n    <tr>\n      <th>3</th>\n      <td>at</td>\n      <td>nsa</td>\n      <td>1993.04</td>\n      <td>157000</td>\n      <td>4.1</td>\n      <td>1993</td>\n      <td>04</td>\n    </tr>\n    <tr>\n      <th>4</th>\n      <td>at</td>\n      <td>nsa</td>\n      <td>1993.05</td>\n      <td>147000</td>\n      <td>3.9</td>\n      <td>1993</td>\n      <td>05</td>\n    </tr>\n    <tr>\n      <th>...</th>\n      <td>...</td>\n      <td>...</td>\n      <td>...</td>\n      <td>...</td>\n      <td>...</td>\n      <td>...</td>\n      <td>...</td>\n    </tr>\n    <tr>\n      <th>20791</th>\n      <td>uk</td>\n      <td>trend</td>\n      <td>2010.06</td>\n      <td>2429000</td>\n      <td>7.7</td>\n      <td>2010</td>\n      <td>06</td>\n    </tr>\n    <tr>\n      <th>20792</th>\n      <td>uk</td>\n      <td>trend</td>\n      <td>2010.07</td>\n      <td>2422000</td>\n      <td>7.7</td>\n      <td>2010</td>\n      <td>07</td>\n    </tr>\n    <tr>\n      <th>20793</th>\n      <td>uk</td>\n      <td>trend</td>\n      <td>2010.08</td>\n      <td>2429000</td>\n      <td>7.7</td>\n      <td>2010</td>\n      <td>08</td>\n    </tr>\n    <tr>\n      <th>20794</th>\n      <td>uk</td>\n      <td>trend</td>\n      <td>2010.09</td>\n      <td>2447000</td>\n      <td>7.8</td>\n      <td>2010</td>\n      <td>09</td>\n    </tr>\n    <tr>\n      <th>20795</th>\n      <td>uk</td>\n      <td>trend</td>\n      <td>2010.1</td>\n      <td>2455000</td>\n      <td>7.8</td>\n      <td>2010</td>\n      <td>1</td>\n    </tr>\n  </tbody>\n</table>\n<p>20796 rows × 7 columns</p>\n</div>"
     },
     "metadata": {},
     "execution_count": 128
    }
   ],
   "source": [
    "df_ct "
   ]
  },
  {
   "cell_type": "markdown",
   "metadata": {},
   "source": [
    "# 4.2 Group Statistics\n",
    "\n",
    "Given the unemployment data in `data/country_sex_age.csv`, give the average unemployment rate for:\n",
    "\n",
    "- Each gender\n",
    "- Each Age Group\n",
    "- Both Together\n",
    "\n",
    "**HINT:** The `seasonality` column makes it such that the data is repeated for each method of calculating unemployment (`nsa`, `trend`, etc.). Can you ignore this and group over it? Or should you take the average for each?"
   ]
  },
  {
   "cell_type": "code",
   "execution_count": 134,
   "metadata": {},
   "outputs": [
    {
     "output_type": "execute_result",
     "data": {
      "text/plain": [
       "      country seasonality sex age_group    month  unemployment  \\\n",
       "0          at         nsa   f    y25-74  1993.01         61000   \n",
       "1          at         nsa   f    y25-74  1993.02         62000   \n",
       "2          at         nsa   f    y25-74  1993.03         62000   \n",
       "3          at         nsa   f    y25-74  1993.04         63000   \n",
       "4          at         nsa   f    y25-74  1993.05         63000   \n",
       "...       ...         ...  ..       ...      ...           ...   \n",
       "83155      uk       trend   m    y_lt25  2010.06        518000   \n",
       "83156      uk       trend   m    y_lt25  2010.07        513000   \n",
       "83157      uk       trend   m    y_lt25  2010.08        509000   \n",
       "83158      uk       trend   m    y_lt25  2010.09        513000   \n",
       "83159      uk       trend   m    y_lt25  2010.10        520000   \n",
       "\n",
       "       unemployment_rate  \n",
       "0                    4.5  \n",
       "1                    4.5  \n",
       "2                    4.5  \n",
       "3                    4.6  \n",
       "4                    4.6  \n",
       "...                  ...  \n",
       "83155               21.1  \n",
       "83156               20.8  \n",
       "83157               20.5  \n",
       "83158               20.7  \n",
       "83159               21.1  \n",
       "\n",
       "[83160 rows x 7 columns]"
      ],
      "text/html": "<div>\n<style scoped>\n    .dataframe tbody tr th:only-of-type {\n        vertical-align: middle;\n    }\n\n    .dataframe tbody tr th {\n        vertical-align: top;\n    }\n\n    .dataframe thead th {\n        text-align: right;\n    }\n</style>\n<table border=\"1\" class=\"dataframe\">\n  <thead>\n    <tr style=\"text-align: right;\">\n      <th></th>\n      <th>country</th>\n      <th>seasonality</th>\n      <th>sex</th>\n      <th>age_group</th>\n      <th>month</th>\n      <th>unemployment</th>\n      <th>unemployment_rate</th>\n    </tr>\n  </thead>\n  <tbody>\n    <tr>\n      <th>0</th>\n      <td>at</td>\n      <td>nsa</td>\n      <td>f</td>\n      <td>y25-74</td>\n      <td>1993.01</td>\n      <td>61000</td>\n      <td>4.5</td>\n    </tr>\n    <tr>\n      <th>1</th>\n      <td>at</td>\n      <td>nsa</td>\n      <td>f</td>\n      <td>y25-74</td>\n      <td>1993.02</td>\n      <td>62000</td>\n      <td>4.5</td>\n    </tr>\n    <tr>\n      <th>2</th>\n      <td>at</td>\n      <td>nsa</td>\n      <td>f</td>\n      <td>y25-74</td>\n      <td>1993.03</td>\n      <td>62000</td>\n      <td>4.5</td>\n    </tr>\n    <tr>\n      <th>3</th>\n      <td>at</td>\n      <td>nsa</td>\n      <td>f</td>\n      <td>y25-74</td>\n      <td>1993.04</td>\n      <td>63000</td>\n      <td>4.6</td>\n    </tr>\n    <tr>\n      <th>4</th>\n      <td>at</td>\n      <td>nsa</td>\n      <td>f</td>\n      <td>y25-74</td>\n      <td>1993.05</td>\n      <td>63000</td>\n      <td>4.6</td>\n    </tr>\n    <tr>\n      <th>...</th>\n      <td>...</td>\n      <td>...</td>\n      <td>...</td>\n      <td>...</td>\n      <td>...</td>\n      <td>...</td>\n      <td>...</td>\n    </tr>\n    <tr>\n      <th>83155</th>\n      <td>uk</td>\n      <td>trend</td>\n      <td>m</td>\n      <td>y_lt25</td>\n      <td>2010.06</td>\n      <td>518000</td>\n      <td>21.1</td>\n    </tr>\n    <tr>\n      <th>83156</th>\n      <td>uk</td>\n      <td>trend</td>\n      <td>m</td>\n      <td>y_lt25</td>\n      <td>2010.07</td>\n      <td>513000</td>\n      <td>20.8</td>\n    </tr>\n    <tr>\n      <th>83157</th>\n      <td>uk</td>\n      <td>trend</td>\n      <td>m</td>\n      <td>y_lt25</td>\n      <td>2010.08</td>\n      <td>509000</td>\n      <td>20.5</td>\n    </tr>\n    <tr>\n      <th>83158</th>\n      <td>uk</td>\n      <td>trend</td>\n      <td>m</td>\n      <td>y_lt25</td>\n      <td>2010.09</td>\n      <td>513000</td>\n      <td>20.7</td>\n    </tr>\n    <tr>\n      <th>83159</th>\n      <td>uk</td>\n      <td>trend</td>\n      <td>m</td>\n      <td>y_lt25</td>\n      <td>2010.10</td>\n      <td>520000</td>\n      <td>21.1</td>\n    </tr>\n  </tbody>\n</table>\n<p>83160 rows × 7 columns</p>\n</div>"
     },
     "metadata": {},
     "execution_count": 134
    }
   ],
   "source": [
    "import pandas as pd\n",
    "df_csa = pd.DataFrame(pd.read_csv(\"data/country_sex_age.csv\"))\n",
    "df_csa"
   ]
  },
  {
   "cell_type": "code",
   "execution_count": 143,
   "metadata": {},
   "outputs": [
    {
     "output_type": "execute_result",
     "data": {
      "text/plain": [
       "                unemployment_rate\n",
       "                             mean\n",
       "sex seasonality                  \n",
       "f   nsa                 13.179216\n",
       "    sa                  12.908743\n",
       "    trend               12.862163\n",
       "m   nsa                 11.708432\n",
       "    sa                  11.662290\n",
       "    trend               11.643015"
      ],
      "text/html": "<div>\n<style scoped>\n    .dataframe tbody tr th:only-of-type {\n        vertical-align: middle;\n    }\n\n    .dataframe tbody tr th {\n        vertical-align: top;\n    }\n\n    .dataframe thead tr th {\n        text-align: left;\n    }\n\n    .dataframe thead tr:last-of-type th {\n        text-align: right;\n    }\n</style>\n<table border=\"1\" class=\"dataframe\">\n  <thead>\n    <tr>\n      <th></th>\n      <th></th>\n      <th>unemployment_rate</th>\n    </tr>\n    <tr>\n      <th></th>\n      <th></th>\n      <th>mean</th>\n    </tr>\n    <tr>\n      <th>sex</th>\n      <th>seasonality</th>\n      <th></th>\n    </tr>\n  </thead>\n  <tbody>\n    <tr>\n      <th rowspan=\"3\" valign=\"top\">f</th>\n      <th>nsa</th>\n      <td>13.179216</td>\n    </tr>\n    <tr>\n      <th>sa</th>\n      <td>12.908743</td>\n    </tr>\n    <tr>\n      <th>trend</th>\n      <td>12.862163</td>\n    </tr>\n    <tr>\n      <th rowspan=\"3\" valign=\"top\">m</th>\n      <th>nsa</th>\n      <td>11.708432</td>\n    </tr>\n    <tr>\n      <th>sa</th>\n      <td>11.662290</td>\n    </tr>\n    <tr>\n      <th>trend</th>\n      <td>11.643015</td>\n    </tr>\n  </tbody>\n</table>\n</div>"
     },
     "metadata": {},
     "execution_count": 143
    }
   ],
   "source": [
    "\n",
    "df_csa.groupby(['sex','seasonality']).agg({'unemployment_rate' : ['mean']})"
   ]
  },
  {
   "cell_type": "code",
   "execution_count": 144,
   "metadata": {},
   "outputs": [
    {
     "output_type": "execute_result",
     "data": {
      "text/plain": [
       "                      unemployment_rate\n",
       "                                   mean\n",
       "age_group seasonality                  \n",
       "y25-74    nsa                  6.870746\n",
       "          sa                   6.918446\n",
       "          trend                6.926319\n",
       "y_lt25    nsa                 18.016902\n",
       "          sa                  17.690707\n",
       "          trend               17.617224"
      ],
      "text/html": "<div>\n<style scoped>\n    .dataframe tbody tr th:only-of-type {\n        vertical-align: middle;\n    }\n\n    .dataframe tbody tr th {\n        vertical-align: top;\n    }\n\n    .dataframe thead tr th {\n        text-align: left;\n    }\n\n    .dataframe thead tr:last-of-type th {\n        text-align: right;\n    }\n</style>\n<table border=\"1\" class=\"dataframe\">\n  <thead>\n    <tr>\n      <th></th>\n      <th></th>\n      <th>unemployment_rate</th>\n    </tr>\n    <tr>\n      <th></th>\n      <th></th>\n      <th>mean</th>\n    </tr>\n    <tr>\n      <th>age_group</th>\n      <th>seasonality</th>\n      <th></th>\n    </tr>\n  </thead>\n  <tbody>\n    <tr>\n      <th rowspan=\"3\" valign=\"top\">y25-74</th>\n      <th>nsa</th>\n      <td>6.870746</td>\n    </tr>\n    <tr>\n      <th>sa</th>\n      <td>6.918446</td>\n    </tr>\n    <tr>\n      <th>trend</th>\n      <td>6.926319</td>\n    </tr>\n    <tr>\n      <th rowspan=\"3\" valign=\"top\">y_lt25</th>\n      <th>nsa</th>\n      <td>18.016902</td>\n    </tr>\n    <tr>\n      <th>sa</th>\n      <td>17.690707</td>\n    </tr>\n    <tr>\n      <th>trend</th>\n      <td>17.617224</td>\n    </tr>\n  </tbody>\n</table>\n</div>"
     },
     "metadata": {},
     "execution_count": 144
    }
   ],
   "source": [
    "df_csa.groupby(['age_group','seasonality']).agg({'unemployment_rate' : ['mean']})"
   ]
  },
  {
   "cell_type": "code",
   "execution_count": 142,
   "metadata": {},
   "outputs": [
    {
     "output_type": "execute_result",
     "data": {
      "text/plain": [
       "                          unemployment_rate\n",
       "                                       mean\n",
       "sex age_group seasonality                  \n",
       "f   y25-74    nsa                  7.539839\n",
       "              sa                   7.579982\n",
       "              trend                7.579934\n",
       "    y_lt25    nsa                 18.818593\n",
       "              sa                  18.323837\n",
       "              trend               18.231025\n",
       "m   y25-74    nsa                  6.201653\n",
       "              sa                   6.256909\n",
       "              trend                6.272703\n",
       "    y_lt25    nsa                 17.215211\n",
       "              sa                  17.067671\n",
       "              trend               17.013327"
      ],
      "text/html": "<div>\n<style scoped>\n    .dataframe tbody tr th:only-of-type {\n        vertical-align: middle;\n    }\n\n    .dataframe tbody tr th {\n        vertical-align: top;\n    }\n\n    .dataframe thead tr th {\n        text-align: left;\n    }\n\n    .dataframe thead tr:last-of-type th {\n        text-align: right;\n    }\n</style>\n<table border=\"1\" class=\"dataframe\">\n  <thead>\n    <tr>\n      <th></th>\n      <th></th>\n      <th></th>\n      <th>unemployment_rate</th>\n    </tr>\n    <tr>\n      <th></th>\n      <th></th>\n      <th></th>\n      <th>mean</th>\n    </tr>\n    <tr>\n      <th>sex</th>\n      <th>age_group</th>\n      <th>seasonality</th>\n      <th></th>\n    </tr>\n  </thead>\n  <tbody>\n    <tr>\n      <th rowspan=\"6\" valign=\"top\">f</th>\n      <th rowspan=\"3\" valign=\"top\">y25-74</th>\n      <th>nsa</th>\n      <td>7.539839</td>\n    </tr>\n    <tr>\n      <th>sa</th>\n      <td>7.579982</td>\n    </tr>\n    <tr>\n      <th>trend</th>\n      <td>7.579934</td>\n    </tr>\n    <tr>\n      <th rowspan=\"3\" valign=\"top\">y_lt25</th>\n      <th>nsa</th>\n      <td>18.818593</td>\n    </tr>\n    <tr>\n      <th>sa</th>\n      <td>18.323837</td>\n    </tr>\n    <tr>\n      <th>trend</th>\n      <td>18.231025</td>\n    </tr>\n    <tr>\n      <th rowspan=\"6\" valign=\"top\">m</th>\n      <th rowspan=\"3\" valign=\"top\">y25-74</th>\n      <th>nsa</th>\n      <td>6.201653</td>\n    </tr>\n    <tr>\n      <th>sa</th>\n      <td>6.256909</td>\n    </tr>\n    <tr>\n      <th>trend</th>\n      <td>6.272703</td>\n    </tr>\n    <tr>\n      <th rowspan=\"3\" valign=\"top\">y_lt25</th>\n      <th>nsa</th>\n      <td>17.215211</td>\n    </tr>\n    <tr>\n      <th>sa</th>\n      <td>17.067671</td>\n    </tr>\n    <tr>\n      <th>trend</th>\n      <td>17.013327</td>\n    </tr>\n  </tbody>\n</table>\n</div>"
     },
     "metadata": {},
     "execution_count": 142
    }
   ],
   "source": [
    "df_csa.groupby(['sex','age_group','seasonality']).agg({'unemployment_rate' : ['mean']})\n",
    "\n"
   ]
  },
  {
   "cell_type": "code",
   "execution_count": null,
   "metadata": {},
   "outputs": [],
   "source": [
    "# we have to use thej seasonality because the data have change when we take it off"
   ]
  },
  {
   "cell_type": "markdown",
   "metadata": {},
   "source": [
    "# 4.3 Estimating group size\n",
    "\n",
    "Given that we have the unemployment **rate** as a % of total population, and the number of total unemployed, we can estimate the total population.\n",
    "\n",
    "Give an estimate of the total population for men and women in each age group.\n",
    "\n",
    "Does this change depending on the unemployment seasonality calculation method?"
   ]
  },
  {
   "cell_type": "code",
   "execution_count": 145,
   "metadata": {},
   "outputs": [],
   "source": [
    "df_csa['population'] = df_csa.unemployment / (df_csa.unemployment_rate / 100)"
   ]
  },
  {
   "cell_type": "code",
   "execution_count": 148,
   "metadata": {},
   "outputs": [
    {
     "output_type": "execute_result",
     "data": {
      "text/plain": [
       "      country seasonality sex age_group    month  unemployment  \\\n",
       "0          at         nsa   f    y25-74  1993.01         61000   \n",
       "1          at         nsa   f    y25-74  1993.02         62000   \n",
       "2          at         nsa   f    y25-74  1993.03         62000   \n",
       "3          at         nsa   f    y25-74  1993.04         63000   \n",
       "4          at         nsa   f    y25-74  1993.05         63000   \n",
       "...       ...         ...  ..       ...      ...           ...   \n",
       "83155      uk       trend   m    y_lt25  2010.06        518000   \n",
       "83156      uk       trend   m    y_lt25  2010.07        513000   \n",
       "83157      uk       trend   m    y_lt25  2010.08        509000   \n",
       "83158      uk       trend   m    y_lt25  2010.09        513000   \n",
       "83159      uk       trend   m    y_lt25  2010.10        520000   \n",
       "\n",
       "       unemployment_rate    population  \n",
       "0                    4.5  1.355556e+06  \n",
       "1                    4.5  1.377778e+06  \n",
       "2                    4.5  1.377778e+06  \n",
       "3                    4.6  1.369565e+06  \n",
       "4                    4.6  1.369565e+06  \n",
       "...                  ...           ...  \n",
       "83155               21.1  2.454976e+06  \n",
       "83156               20.8  2.466346e+06  \n",
       "83157               20.5  2.482927e+06  \n",
       "83158               20.7  2.478261e+06  \n",
       "83159               21.1  2.464455e+06  \n",
       "\n",
       "[83160 rows x 8 columns]"
      ],
      "text/html": "<div>\n<style scoped>\n    .dataframe tbody tr th:only-of-type {\n        vertical-align: middle;\n    }\n\n    .dataframe tbody tr th {\n        vertical-align: top;\n    }\n\n    .dataframe thead th {\n        text-align: right;\n    }\n</style>\n<table border=\"1\" class=\"dataframe\">\n  <thead>\n    <tr style=\"text-align: right;\">\n      <th></th>\n      <th>country</th>\n      <th>seasonality</th>\n      <th>sex</th>\n      <th>age_group</th>\n      <th>month</th>\n      <th>unemployment</th>\n      <th>unemployment_rate</th>\n      <th>population</th>\n    </tr>\n  </thead>\n  <tbody>\n    <tr>\n      <th>0</th>\n      <td>at</td>\n      <td>nsa</td>\n      <td>f</td>\n      <td>y25-74</td>\n      <td>1993.01</td>\n      <td>61000</td>\n      <td>4.5</td>\n      <td>1.355556e+06</td>\n    </tr>\n    <tr>\n      <th>1</th>\n      <td>at</td>\n      <td>nsa</td>\n      <td>f</td>\n      <td>y25-74</td>\n      <td>1993.02</td>\n      <td>62000</td>\n      <td>4.5</td>\n      <td>1.377778e+06</td>\n    </tr>\n    <tr>\n      <th>2</th>\n      <td>at</td>\n      <td>nsa</td>\n      <td>f</td>\n      <td>y25-74</td>\n      <td>1993.03</td>\n      <td>62000</td>\n      <td>4.5</td>\n      <td>1.377778e+06</td>\n    </tr>\n    <tr>\n      <th>3</th>\n      <td>at</td>\n      <td>nsa</td>\n      <td>f</td>\n      <td>y25-74</td>\n      <td>1993.04</td>\n      <td>63000</td>\n      <td>4.6</td>\n      <td>1.369565e+06</td>\n    </tr>\n    <tr>\n      <th>4</th>\n      <td>at</td>\n      <td>nsa</td>\n      <td>f</td>\n      <td>y25-74</td>\n      <td>1993.05</td>\n      <td>63000</td>\n      <td>4.6</td>\n      <td>1.369565e+06</td>\n    </tr>\n    <tr>\n      <th>...</th>\n      <td>...</td>\n      <td>...</td>\n      <td>...</td>\n      <td>...</td>\n      <td>...</td>\n      <td>...</td>\n      <td>...</td>\n      <td>...</td>\n    </tr>\n    <tr>\n      <th>83155</th>\n      <td>uk</td>\n      <td>trend</td>\n      <td>m</td>\n      <td>y_lt25</td>\n      <td>2010.06</td>\n      <td>518000</td>\n      <td>21.1</td>\n      <td>2.454976e+06</td>\n    </tr>\n    <tr>\n      <th>83156</th>\n      <td>uk</td>\n      <td>trend</td>\n      <td>m</td>\n      <td>y_lt25</td>\n      <td>2010.07</td>\n      <td>513000</td>\n      <td>20.8</td>\n      <td>2.466346e+06</td>\n    </tr>\n    <tr>\n      <th>83157</th>\n      <td>uk</td>\n      <td>trend</td>\n      <td>m</td>\n      <td>y_lt25</td>\n      <td>2010.08</td>\n      <td>509000</td>\n      <td>20.5</td>\n      <td>2.482927e+06</td>\n    </tr>\n    <tr>\n      <th>83158</th>\n      <td>uk</td>\n      <td>trend</td>\n      <td>m</td>\n      <td>y_lt25</td>\n      <td>2010.09</td>\n      <td>513000</td>\n      <td>20.7</td>\n      <td>2.478261e+06</td>\n    </tr>\n    <tr>\n      <th>83159</th>\n      <td>uk</td>\n      <td>trend</td>\n      <td>m</td>\n      <td>y_lt25</td>\n      <td>2010.10</td>\n      <td>520000</td>\n      <td>21.1</td>\n      <td>2.464455e+06</td>\n    </tr>\n  </tbody>\n</table>\n<p>83160 rows × 8 columns</p>\n</div>"
     },
     "metadata": {},
     "execution_count": 148
    }
   ],
   "source": [
    "df_csa"
   ]
  },
  {
   "cell_type": "code",
   "execution_count": 151,
   "metadata": {},
   "outputs": [
    {
     "output_type": "execute_result",
     "data": {
      "text/plain": [
       "                             population\n",
       "                                   mean\n",
       "sex age_group seasonality              \n",
       "f   y25-74    nsa          3.006779e+06\n",
       "              sa           3.360649e+06\n",
       "              trend        3.289520e+06\n",
       "    y_lt25    nsa          5.270112e+05\n",
       "              sa           5.876348e+05\n",
       "              trend        5.848969e+05\n",
       "m   y25-74    nsa          4.110194e+06\n",
       "              sa           4.533201e+06\n",
       "              trend        4.423824e+06\n",
       "    y_lt25    nsa          6.354751e+05\n",
       "              sa           6.867673e+05\n",
       "              trend        6.809973e+05"
      ],
      "text/html": "<div>\n<style scoped>\n    .dataframe tbody tr th:only-of-type {\n        vertical-align: middle;\n    }\n\n    .dataframe tbody tr th {\n        vertical-align: top;\n    }\n\n    .dataframe thead tr th {\n        text-align: left;\n    }\n\n    .dataframe thead tr:last-of-type th {\n        text-align: right;\n    }\n</style>\n<table border=\"1\" class=\"dataframe\">\n  <thead>\n    <tr>\n      <th></th>\n      <th></th>\n      <th></th>\n      <th>population</th>\n    </tr>\n    <tr>\n      <th></th>\n      <th></th>\n      <th></th>\n      <th>mean</th>\n    </tr>\n    <tr>\n      <th>sex</th>\n      <th>age_group</th>\n      <th>seasonality</th>\n      <th></th>\n    </tr>\n  </thead>\n  <tbody>\n    <tr>\n      <th rowspan=\"6\" valign=\"top\">f</th>\n      <th rowspan=\"3\" valign=\"top\">y25-74</th>\n      <th>nsa</th>\n      <td>3.006779e+06</td>\n    </tr>\n    <tr>\n      <th>sa</th>\n      <td>3.360649e+06</td>\n    </tr>\n    <tr>\n      <th>trend</th>\n      <td>3.289520e+06</td>\n    </tr>\n    <tr>\n      <th rowspan=\"3\" valign=\"top\">y_lt25</th>\n      <th>nsa</th>\n      <td>5.270112e+05</td>\n    </tr>\n    <tr>\n      <th>sa</th>\n      <td>5.876348e+05</td>\n    </tr>\n    <tr>\n      <th>trend</th>\n      <td>5.848969e+05</td>\n    </tr>\n    <tr>\n      <th rowspan=\"6\" valign=\"top\">m</th>\n      <th rowspan=\"3\" valign=\"top\">y25-74</th>\n      <th>nsa</th>\n      <td>4.110194e+06</td>\n    </tr>\n    <tr>\n      <th>sa</th>\n      <td>4.533201e+06</td>\n    </tr>\n    <tr>\n      <th>trend</th>\n      <td>4.423824e+06</td>\n    </tr>\n    <tr>\n      <th rowspan=\"3\" valign=\"top\">y_lt25</th>\n      <th>nsa</th>\n      <td>6.354751e+05</td>\n    </tr>\n    <tr>\n      <th>sa</th>\n      <td>6.867673e+05</td>\n    </tr>\n    <tr>\n      <th>trend</th>\n      <td>6.809973e+05</td>\n    </tr>\n  </tbody>\n</table>\n</div>"
     },
     "metadata": {},
     "execution_count": 151
    }
   ],
   "source": [
    "df_csa.groupby(['sex','age_group','seasonality']).agg({'population' : ['mean']})"
   ]
  },
  {
   "cell_type": "markdown",
   "metadata": {},
   "source": [
    "# 5.1 Tennis\n",
    "\n",
    "In `data/tennis.csv` you have games that Roger Federer played against various opponents. Questions:\n",
    "\n",
    "1. How many games did Federer win?\n",
    "\n",
    "2. What is Federer's win/loss ratio?\n",
    "\n",
    "3. Who were Federer's top 5 opponents?"
   ]
  },
  {
   "cell_type": "code",
   "execution_count": 250,
   "metadata": {},
   "outputs": [],
   "source": [
    "tennis = pd.read_csv('data/tennis.csv')"
   ]
  },
  {
   "cell_type": "code",
   "execution_count": 251,
   "metadata": {},
   "outputs": [
    {
     "output_type": "execute_result",
     "data": {
      "text/plain": [
       "972"
      ]
     },
     "metadata": {},
     "execution_count": 251
    }
   ],
   "source": [
    "tennis.win.sum()"
   ]
  },
  {
   "cell_type": "code",
   "execution_count": 252,
   "metadata": {},
   "outputs": [
    {
     "output_type": "execute_result",
     "data": {
      "text/plain": [
       "1179"
      ]
     },
     "metadata": {},
     "execution_count": 252
    }
   ],
   "source": [
    "tennis.win.count()"
   ]
  },
  {
   "cell_type": "code",
   "execution_count": 253,
   "metadata": {},
   "outputs": [
    {
     "output_type": "execute_result",
     "data": {
      "text/plain": [
       "4.695652173913044"
      ]
     },
     "metadata": {},
     "execution_count": 253
    }
   ],
   "source": [
    "ratio =  tennis.win.sum() / (tennis.win.count() - tennis.win.sum())\n",
    "ratio"
   ]
  },
  {
   "cell_type": "code",
   "execution_count": 254,
   "metadata": {},
   "outputs": [
    {
     "output_type": "execute_result",
     "data": {
      "text/plain": [
       "winner\n",
       "Rafael Nadal        18\n",
       "Novak Djokovic      13\n",
       "Andy Murray         10\n",
       "David Nalbandian     8\n",
       "Lleyton Hewitt       8\n",
       "Name: winner, dtype: int64"
      ]
     },
     "metadata": {},
     "execution_count": 254
    }
   ],
   "source": [
    "tennis[tennis.win==False].groupby(['winner']).winner.count().nlargest(5)\n"
   ]
  },
  {
   "cell_type": "markdown",
   "metadata": {},
   "source": [
    "# 5.2 Over time\n",
    "\n",
    "1. What was Federer's best year? In terms of money, and then in terms of number of wins\n",
    "\n",
    "2. Did Federer get better or worse over time?"
   ]
  },
  {
   "cell_type": "code",
   "execution_count": 255,
   "metadata": {},
   "outputs": [],
   "source": [
    "tennis = tennis.rename(columns={'tournament prize money' : 'tournament_prize_money'})"
   ]
  },
  {
   "cell_type": "code",
   "execution_count": 256,
   "metadata": {},
   "outputs": [],
   "source": [
    "tennis.tournament_prize_money = tennis.tournament_prize_money.replace('[A,$,,]','',regex=True).replace('',0).astype(float)\n"
   ]
  },
  {
   "cell_type": "code",
   "execution_count": 257,
   "metadata": {},
   "outputs": [
    {
     "output_type": "execute_result",
     "data": {
      "text/plain": [
       "385788068.0"
      ]
     },
     "metadata": {},
     "execution_count": 257
    }
   ],
   "source": []
  },
  {
   "cell_type": "code",
   "execution_count": 265,
   "metadata": {},
   "outputs": [
    {
     "output_type": "execute_result",
     "data": {
      "text/plain": [
       "year\n",
       "2007    7245735.0\n",
       "2006    7221635.0\n",
       "2004    6229377.0\n",
       "2005    4733250.0\n",
       "2010    4561045.0\n",
       "2012    3971120.0\n",
       "2003    3026502.0\n",
       "2009    2938500.0\n",
       "2011    2579000.0\n",
       "2008    1819800.0\n",
       "2002     540600.0\n",
       "2001      54000.0\n",
       "1999      14400.0\n",
       "Name: tournament_prize_money, dtype: float64"
      ]
     },
     "metadata": {},
     "execution_count": 265
    }
   ],
   "source": [
    "tennis[(tennis.win==True) & (tennis['tournament round']=='F')].groupby(['year']).tournament_prize_money.sum().sort_values(ascending=False)"
   ]
  },
  {
   "cell_type": "code",
   "execution_count": 266,
   "metadata": {},
   "outputs": [
    {
     "output_type": "execute_result",
     "data": {
      "text/plain": [
       "year\n",
       "2006    12\n",
       "2005    11\n",
       "2004    11\n",
       "2007     8\n",
       "2003     7\n",
       "2012     6\n",
       "2010     5\n",
       "2011     4\n",
       "2009     4\n",
       "2008     4\n",
       "2002     3\n",
       "2001     1\n",
       "1999     1\n",
       "Name: tournament, dtype: int64"
      ]
     },
     "metadata": {},
     "execution_count": 266
    }
   ],
   "source": [
    "tennis[(tennis.win==True) & (tennis['tournament round']=='F')].groupby(['year']).tournament.count().sort_values(ascending=False)"
   ]
  },
  {
   "cell_type": "markdown",
   "metadata": {},
   "source": [
    "# 5.3 Total money won\n",
    "\n",
    "In the data, you'll find the `tournament round`, one value of which, `F` indicates the final.\n",
    "\n",
    "Assuming Federer wins the money in the `tournament prize money` if he wins a final in a tournament, how much money has Federer made in tournaments in this dataset?"
   ]
  },
  {
   "cell_type": "code",
   "execution_count": 267,
   "metadata": {},
   "outputs": [
    {
     "output_type": "execute_result",
     "data": {
      "text/plain": [
       "44934964.0"
      ]
     },
     "metadata": {},
     "execution_count": 267
    }
   ],
   "source": [
    "tennis[(tennis.win==True) & (tennis['tournament round']=='F')].tournament_prize_money.sum()"
   ]
  },
  {
   "cell_type": "code",
   "execution_count": null,
   "metadata": {},
   "outputs": [],
   "source": []
  }
 ],
 "metadata": {
  "kernelspec": {
   "display_name": "Python 3",
   "language": "python",
   "name": "python3"
  },
  "language_info": {
   "codemirror_mode": {
    "name": "ipython",
    "version": 3
   },
   "file_extension": ".py",
   "mimetype": "text/x-python",
   "name": "python",
   "nbconvert_exporter": "python",
   "pygments_lexer": "ipython3",
   "version": "3.8.3-final"
  }
 },
 "nbformat": 4,
 "nbformat_minor": 4
}